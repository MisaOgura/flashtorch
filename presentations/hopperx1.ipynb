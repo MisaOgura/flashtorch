{
 "cells": [
  {
   "cell_type": "markdown",
   "metadata": {
    "slideshow": {
     "slide_type": "skip"
    }
   },
   "source": [
    "N.B. This is a notebook I created for my talk at [Hopperx1 London 2019](https://londontechweek.com/event/hopperx1-london-people-and-skills) organised by fabulous people at [AnitaB.org](https://anitab.org/).\n",
    "\n",
    "It is best served as an interactive HTML slide deck using [nbconvert](https://nbconvert.readthedocs.io/en/latest/install.html).\n",
    "\n",
    "Here's how to do it. From your terminal, run:\n",
    "\n",
    "```\n",
    "$ jupyter nbconvert presentation/hopperx1.ipynb --to slides --post serve\n",
    "```\n",
    "\n",
    "It should open up a browser automatically. Modify the path to this notebook depending on where you're lauching it from."
   ]
  },
  {
   "cell_type": "code",
   "execution_count": 1,
   "metadata": {
    "slideshow": {
     "slide_type": "skip"
    }
   },
   "outputs": [],
   "source": [
    "###########\n",
    "# Imports #\n",
    "###########\n",
    "\n",
    "#####################\n",
    "# Utility functions #\n",
    "#####################"
   ]
  },
  {
   "cell_type": "markdown",
   "metadata": {
    "slideshow": {
     "slide_type": "slide"
    }
   },
   "source": [
    "<div class='title'>\n",
    "    <h1 id='main-title'>Seeing is believing</h1>\n",
    "\n",
    "    <h3 id='subtitle'>Neural nets, what do they \"see\"?</h3>\n",
    "\n",
    "    <hr>\n",
    "\n",
    "    <p>by Misa Ogura</p>\n",
    "</div>"
   ]
  },
  {
   "cell_type": "markdown",
   "metadata": {
    "slideshow": {
     "slide_type": "slide"
    }
   },
   "source": [
    "<scripts>\n",
    "    <link rel=\"stylesheet\" href=\"https://use.fontawesome.com/releases/v5.8.2/css/all.css\" integrity=\"sha384-oS3vJWv+0UjzBfQzYUhtDYW+Pj2yciDJxpsK1OYPAYjqT085Qq/1cq5FLXAZQ7Ay\" crossorigin=\"anonymous\">\n",
    "</scripts>\n",
    "\n",
    "<h1>Hello, I'm Misa 👋</h1>\n",
    "\n",
    "<hr>\n",
    "\n",
    "<div class='profile-container'>\n",
    "    <img id='profile-image' src='images/misa_ogura_profile.jpg' width='200' height='200'>\n",
    "\n",
    "    <ul id='profile-list'>\n",
    "        <li>Originally from Tokyo, now based in London</li>\n",
    "        <li>Cancer Cell Biologist, turned Software Engineer</li>\n",
    "        <li>Currently at BBC R&D</li>\n",
    "        <li>Co-founder of <a href='https://womendrivendev.org' target='_blank'>Women Driven Development</a></li>\n",
    "        <li>Women in Data Science London Ambassador</li>\n",
    "        <li>Occasionally writes</li>\n",
    "    </ul>\n",
    "</div>"
   ]
  },
  {
   "cell_type": "markdown",
   "metadata": {
    "slideshow": {
     "slide_type": "slide"
    }
   },
   "source": [
    "## Convolutional Neural Networks (CNNs)\n",
    "\n",
    "---"
   ]
  },
  {
   "cell_type": "markdown",
   "metadata": {
    "slideshow": {
     "slide_type": "slide"
    }
   },
   "source": [
    "## Visualisation Techniques\n",
    "\n",
    "---"
   ]
  },
  {
   "cell_type": "markdown",
   "metadata": {
    "slideshow": {
     "slide_type": "slide"
    }
   },
   "source": [
    "## Demo\n",
    "\n",
    "---"
   ]
  }
 ],
 "metadata": {
  "celltoolbar": "Slideshow",
  "kernelspec": {
   "display_name": "Python 3",
   "language": "python",
   "name": "python3"
  },
  "language_info": {
   "codemirror_mode": {
    "name": "ipython",
    "version": 3
   },
   "file_extension": ".py",
   "mimetype": "text/x-python",
   "name": "python",
   "nbconvert_exporter": "python",
   "pygments_lexer": "ipython3",
   "version": "3.6.8"
  }
 },
 "nbformat": 4,
 "nbformat_minor": 2
}
