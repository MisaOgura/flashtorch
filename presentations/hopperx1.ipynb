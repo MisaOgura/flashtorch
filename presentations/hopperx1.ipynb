{
 "cells": [
  {
   "cell_type": "markdown",
   "metadata": {
    "slideshow": {
     "slide_type": "skip"
    }
   },
   "source": [
    "N.B. This is a notebook I created for my talk at [Hopperx1 London 2019](https://londontechweek.com/event/hopperx1-london-people-and-skills) organised by fabulous people at [AnitaB.org](https://anitab.org/).\n",
    "\n",
    "It is best served as an interactive HTML slide deck using [nbconvert](https://nbconvert.readthedocs.io/en/latest/install.html), as otherwise the styling of most HTML elements will be completely off!\n",
    "\n",
    "Here's how to do it. From your terminal, run:\n",
    "\n",
    "```\n",
    "$ jupyter nbconvert presentation/hopperx1.ipynb --to slides --post serve\n",
    "```\n",
    "\n",
    "It should open up a browser automatically.\n",
    "\n",
    "Modify the path to this notebook depending on where you're lauching it from."
   ]
  },
  {
   "cell_type": "code",
   "execution_count": 1,
   "metadata": {
    "slideshow": {
     "slide_type": "skip"
    }
   },
   "outputs": [],
   "source": [
    "###########\n",
    "# Imports #\n",
    "###########\n",
    "\n",
    "#####################\n",
    "# Utility functions #\n",
    "#####################"
   ]
  },
  {
   "cell_type": "markdown",
   "metadata": {
    "slideshow": {
     "slide_type": "slide"
    }
   },
   "source": [
    "<div class='title'>\n",
    "    <h1 id='main-title'>Seeing is believing</h1>\n",
    "\n",
    "    <h3 id='subtitle'>Neural nets, what do they \"see\"?</h3>\n",
    "\n",
    "    <hr>\n",
    "\n",
    "    <p>by Misa Ogura</p>\n",
    "</div>"
   ]
  },
  {
   "cell_type": "markdown",
   "metadata": {
    "slideshow": {
     "slide_type": "slide"
    }
   },
   "source": [
    "<head>\n",
    "    <link rel=\"stylesheet\" href=\"https://use.fontawesome.com/releases/v5.8.2/css/all.css\" integrity=\"sha384-oS3vJWv+0UjzBfQzYUhtDYW+Pj2yciDJxpsK1OYPAYjqT085Qq/1cq5FLXAZQ7Ay\" crossorigin=\"anonymous\">\n",
    "<head>\n",
    "\n",
    "<h1>Hello, I'm Misa 👋</h1>\n",
    "\n",
    "<hr>\n",
    "\n",
    "<div class='profile-container'>\n",
    "    <img id='profile-image' src='images/misa_ogura_profile.jpg' width='200' height='200'>\n",
    "\n",
    "    <ul id='profile-list'>\n",
    "        <li>Originally from Tokyo, now based in London</li>\n",
    "        <li>Cancer Cell Biologist, turned Software Engineer</li>\n",
    "        <li>Currently at BBC R&D</li>\n",
    "        <li>Co-founder of Women Driven Development</li>\n",
    "        <li>Women in Data Science London Ambassador</li>\n",
    "    </ul>\n",
    "</div>\n",
    "\n",
    "\n",
    "<div class='social-container'>\n",
    "    <a href='https://github.com/misaogura' target='_blank'><i class=\"fab fa-github\"></i></a>\n",
    "    <a href='https://medium.com/@misaogura' target='_blank'><i class=\"fab fa-medium-m\"></i></a>\n",
    "    <a href='https://twitter.com/misa_ogura' target='_blank'><i class=\"fab fa-twitter\"></i></a>\n",
    "    <a href='https://www.linkedin.com/in/misaogura/' target='_blank'><i class=\"fab fa-linkedin-in\"></i></a>\n",
    "    <a href='https://womendrivendev.org' target='_blank'>\n",
    "        <img id='wdd-logo' src='images/wdd-logo.png' width='20' height='20'>\n",
    "    </a>\n",
    "</div>"
   ]
  },
  {
   "cell_type": "markdown",
   "metadata": {
    "slideshow": {
     "slide_type": "slide"
    }
   },
   "source": [
    "## Convolutional Neural Network (CNN)\n",
    "\n",
    "---"
   ]
  },
  {
   "cell_type": "markdown",
   "metadata": {
    "slideshow": {
     "slide_type": "subslide"
    }
   },
   "source": [
    "### Image Convolution\n",
    "\n",
    "---"
   ]
  },
  {
   "cell_type": "markdown",
   "metadata": {
    "slideshow": {
     "slide_type": "subslide"
    }
   },
   "source": [
    "### CNN Architecture\n",
    "\n",
    "---"
   ]
  },
  {
   "cell_type": "markdown",
   "metadata": {
    "slideshow": {
     "slide_type": "slide"
    }
   },
   "source": [
    "## Visualisation Techniques\n",
    "\n",
    "---"
   ]
  },
  {
   "cell_type": "markdown",
   "metadata": {
    "slideshow": {
     "slide_type": "slide"
    }
   },
   "source": [
    "## Demo\n",
    "\n",
    "---"
   ]
  }
 ],
 "metadata": {
  "celltoolbar": "Slideshow",
  "kernelspec": {
   "display_name": "Python 3",
   "language": "python",
   "name": "python3"
  },
  "language_info": {
   "codemirror_mode": {
    "name": "ipython",
    "version": 3
   },
   "file_extension": ".py",
   "mimetype": "text/x-python",
   "name": "python",
   "nbconvert_exporter": "python",
   "pygments_lexer": "ipython3",
   "version": "3.6.8"
  }
 },
 "nbformat": 4,
 "nbformat_minor": 2
}
